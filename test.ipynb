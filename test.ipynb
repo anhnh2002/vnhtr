{
 "cells": [
  {
   "cell_type": "code",
   "execution_count": null,
   "metadata": {},
   "outputs": [],
   "source": [
    "!pip install vnhtr==0.0.1\n",
    "!pip install gdown"
   ]
  },
  {
   "cell_type": "code",
   "execution_count": null,
   "metadata": {},
   "outputs": [],
   "source": [
    "from PIL import Image\n",
    "from vnhtr.vnhtr_script.tools import *\n",
    "\n",
    "predictor = VGGTransformer(\"cuda\")\n",
    "\n",
    "predictor.predict([Image.open(\"/content/out_sample_2.jpg\")])"
   ]
  }
 ],
 "metadata": {
  "kernelspec": {
   "display_name": "Python 3",
   "language": "python",
   "name": "python3"
  },
  "language_info": {
   "name": "python",
   "version": "0.0.0"
  }
 },
 "nbformat": 4,
 "nbformat_minor": 2
}
